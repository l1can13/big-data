{
 "cells": [
  {
   "cell_type": "markdown",
   "source": [
    "# Init"
   ],
   "metadata": {
    "collapsed": false
   },
   "id": "401f42ef253774ef"
  },
  {
   "cell_type": "code",
   "execution_count": 9,
   "outputs": [],
   "source": [
    "import pyspark\n",
    "import os\n",
    "import sys\n",
    "\n",
    "from pyspark.sql.functions import col\n",
    "from pyspark.sql import SparkSession\n",
    "from pyspark.sql import Row"
   ],
   "metadata": {
    "collapsed": false,
    "ExecuteTime": {
     "end_time": "2024-04-09T12:44:06.739422400Z",
     "start_time": "2024-04-09T12:44:06.717887700Z"
    }
   },
   "id": "initial_id"
  },
  {
   "cell_type": "code",
   "execution_count": 10,
   "outputs": [],
   "source": [
    "os.environ['PYSPARK_PYTHON'] = sys.executable\n",
    "os.environ['PYSPARK_DRIVER_PYTHON'] = sys.executable"
   ],
   "metadata": {
    "collapsed": false,
    "ExecuteTime": {
     "end_time": "2024-04-09T12:44:06.816780800Z",
     "start_time": "2024-04-09T12:44:06.726909800Z"
    }
   },
   "id": "db133b21a27fa155"
  },
  {
   "cell_type": "code",
   "execution_count": 11,
   "outputs": [
    {
     "data": {
      "text/plain": "<pyspark.sql.session.SparkSession at 0x210abcd0ee0>",
      "text/html": "\n            <div>\n                <p><b>SparkSession - in-memory</b></p>\n                \n        <div>\n            <p><b>SparkContext</b></p>\n\n            <p><a href=\"http://l1can:4040\">Spark UI</a></p>\n\n            <dl>\n              <dt>Version</dt>\n                <dd><code>v3.5.1</code></dd>\n              <dt>Master</dt>\n                <dd><code>local[1]</code></dd>\n              <dt>AppName</dt>\n                <dd><code>lab2</code></dd>\n            </dl>\n        </div>\n        \n            </div>\n        "
     },
     "execution_count": 11,
     "metadata": {},
     "output_type": "execute_result"
    }
   ],
   "source": [
    "os.environ['PYSPARK_SUBMIT_ARGS'] = '--packages com.databricks:spark-xml_2.12:0.13.0 pyspark-shell'\n",
    "sc = SparkSession.builder.appName(\"lab2\").master(\"local[1]\").config(\"spark.sql.parquet.writeLegacyFormat\", \"true\").getOrCreate()\n",
    "sc"
   ],
   "metadata": {
    "collapsed": false,
    "ExecuteTime": {
     "end_time": "2024-04-09T12:44:06.867607600Z",
     "start_time": "2024-04-09T12:44:06.804262500Z"
    }
   },
   "id": "eb8b64af21e9bd17"
  },
  {
   "cell_type": "markdown",
   "source": [
    "# Загрузка данных из файла"
   ],
   "metadata": {
    "collapsed": false
   },
   "id": "a41b1da0280c3a11"
  },
  {
   "cell_type": "code",
   "execution_count": 12,
   "outputs": [
    {
     "data": {
      "text/plain": "['A# .NET',\n 'A# (Axiom)',\n 'A-0 System',\n 'A+',\n 'A++',\n 'ABAP',\n 'ABC',\n 'ABC ALGOL',\n 'ABSET',\n 'ABSYS']"
     },
     "execution_count": 12,
     "metadata": {},
     "output_type": "execute_result"
    }
   ],
   "source": [
    "# Загрузка данных о языках программирования\n",
    "programming_languages_df = sc.read.csv(\"data/programming-languages.csv\", header=True, inferSchema=True)\n",
    "programming_languages_list = [row.name for row in programming_languages_df.collect()]\n",
    "\n",
    "programming_languages_list[:10]"
   ],
   "metadata": {
    "collapsed": false,
    "ExecuteTime": {
     "end_time": "2024-04-09T12:44:07.098617500Z",
     "start_time": "2024-04-09T12:44:06.867607600Z"
    }
   },
   "id": "9965e381ee9dd479"
  },
  {
   "cell_type": "code",
   "execution_count": 13,
   "outputs": [],
   "source": [
    "# Загрузка данных из posts_sample.xml с использованием пакета spark-xml\n",
    "posts_df = sc.read \\\n",
    "    .format(\"xml\") \\\n",
    "    .option(\"rowTag\", \"row\") \\\n",
    "    .load(\"data/posts_sample.xml\")\n",
    "\n",
    "# Фильтрация постов типа \"вопрос\" с указанным периодом времени и извлечение тегов\n",
    "posts_filtered_df = posts_df \\\n",
    "    .filter(\"_PostTypeId = 1\") \\\n",
    "    .withColumn(\"Year\", col(\"_CreationDate\").substr(1, 4).cast(\"int\")) \\\n",
    "    .filter((col(\"Year\") >= 2010) & (col(\"Year\") <= 2020)) \\\n",
    "    .select(\"_Tags\", \"Year\")"
   ],
   "metadata": {
    "collapsed": false,
    "ExecuteTime": {
     "end_time": "2024-04-09T12:44:15.410594Z",
     "start_time": "2024-04-09T12:44:07.101616700Z"
    }
   },
   "id": "42e106589a58596e"
  },
  {
   "cell_type": "code",
   "execution_count": 14,
   "outputs": [],
   "source": [
    "# Предварительная обработка данных из XML\n",
    "posts_df = sc.read.format(\"xml\").options(rowTag=\"row\").load(\"data/posts_sample.xml\")\n",
    "posts_rdd = posts_df.rdd"
   ],
   "metadata": {
    "collapsed": false,
    "ExecuteTime": {
     "end_time": "2024-04-09T12:44:23.176485Z",
     "start_time": "2024-04-09T12:44:15.411594400Z"
    }
   },
   "id": "7d5683009e55f9ee"
  },
  {
   "cell_type": "markdown",
   "source": [
    "# Составление отчета"
   ],
   "metadata": {
    "collapsed": false
   },
   "id": "e0c092bdf0d54a2"
  },
  {
   "cell_type": "code",
   "execution_count": 15,
   "outputs": [],
   "source": [
    "# Функция для определения языка программирования по тегам\n",
    "def detect_language(post):\n",
    "    tags_lower = post._Tags.lower()\n",
    "    detected_language = next((lang for lang in programming_languages_list if f\"<{lang.lower()}>\" in tags_lower), None)\n",
    "    return Row(_Id=post._Id, Programming_Language=detected_language) if detected_language is not None else None\n",
    "\n",
    "\n",
    "# Функция для проверки, что пост был опубликован в определённом году\n",
    "def is_post_in_year(post, year):\n",
    "    post_year = post._CreationDate.year\n",
    "    return post_year == year\n",
    "\n",
    "\n",
    "# Функция для обработки постов за определённый год\n",
    "def process_posts_for_year(year, posts_rdd):\n",
    "    year_results = posts_rdd \\\n",
    "        .filter(lambda post: post._Tags is not None and is_post_in_year(post, year)) \\\n",
    "        .map(detect_language) \\\n",
    "        .filter(lambda result: result is not None) \\\n",
    "        .map(lambda post: (post.Programming_Language, 1)) \\\n",
    "        .reduceByKey(lambda a, b: a + b) \\\n",
    "        .sortBy(lambda x: x[1], ascending=False) \\\n",
    "        .take(10)\n",
    "\n",
    "    df = sc.createDataFrame(year_results, [\"Programming_Language\", f\"Number_of_Mentions_{year}\"])\n",
    "    return df"
   ],
   "metadata": {
    "collapsed": false,
    "ExecuteTime": {
     "end_time": "2024-04-09T12:44:23.191478300Z",
     "start_time": "2024-04-09T12:44:23.179484700Z"
    }
   },
   "id": "a9bed9bf0c0a6cb4"
  },
  {
   "cell_type": "markdown",
   "source": [
    "# Вывод результатов"
   ],
   "metadata": {
    "collapsed": false
   },
   "id": "c01b4e7df8318934"
  },
  {
   "cell_type": "code",
   "execution_count": 16,
   "outputs": [
    {
     "name": "stdout",
     "output_type": "stream",
     "text": [
      "Top 10 programming languages for 2010:\n",
      "+--------------------+-----------------------+\n",
      "|Programming_Language|Number_of_Mentions_2010|\n",
      "+--------------------+-----------------------+\n",
      "|                Java|                     52|\n",
      "|          JavaScript|                     44|\n",
      "|                 PHP|                     42|\n",
      "|              Python|                     25|\n",
      "|         Objective-C|                     23|\n",
      "|                   C|                     20|\n",
      "|                Ruby|                     11|\n",
      "|              Delphi|                      7|\n",
      "|                   R|                      3|\n",
      "|                Bash|                      3|\n",
      "+--------------------+-----------------------+\n",
      "Top 10 programming languages for 2011:\n",
      "+--------------------+-----------------------+\n",
      "|Programming_Language|Number_of_Mentions_2011|\n",
      "+--------------------+-----------------------+\n",
      "|                 PHP|                     97|\n",
      "|                Java|                     92|\n",
      "|          JavaScript|                     82|\n",
      "|              Python|                     35|\n",
      "|         Objective-C|                     33|\n",
      "|                   C|                     24|\n",
      "|                Ruby|                     17|\n",
      "|              Delphi|                      8|\n",
      "|                Perl|                      8|\n",
      "|                Bash|                      7|\n",
      "+--------------------+-----------------------+\n",
      "Top 10 programming languages for 2012:\n",
      "+--------------------+-----------------------+\n",
      "|Programming_Language|Number_of_Mentions_2012|\n",
      "+--------------------+-----------------------+\n",
      "|                 PHP|                    136|\n",
      "|          JavaScript|                    129|\n",
      "|                Java|                    124|\n",
      "|              Python|                     65|\n",
      "|         Objective-C|                     45|\n",
      "|                   C|                     27|\n",
      "|                Ruby|                     25|\n",
      "|                Bash|                      9|\n",
      "|                   R|                      9|\n",
      "|              MATLAB|                      6|\n",
      "+--------------------+-----------------------+\n",
      "Top 10 programming languages for 2013:\n",
      "+--------------------+-----------------------+\n",
      "|Programming_Language|Number_of_Mentions_2013|\n",
      "+--------------------+-----------------------+\n",
      "|          JavaScript|                    196|\n",
      "|                Java|                    191|\n",
      "|                 PHP|                    173|\n",
      "|              Python|                     87|\n",
      "|         Objective-C|                     40|\n",
      "|                   C|                     36|\n",
      "|                Ruby|                     30|\n",
      "|                   R|                     25|\n",
      "|                Bash|                     11|\n",
      "|               Scala|                     10|\n",
      "+--------------------+-----------------------+\n",
      "Top 10 programming languages for 2014:\n",
      "+--------------------+-----------------------+\n",
      "|Programming_Language|Number_of_Mentions_2014|\n",
      "+--------------------+-----------------------+\n",
      "|          JavaScript|                    235|\n",
      "|                Java|                    228|\n",
      "|                 PHP|                    154|\n",
      "|              Python|                    103|\n",
      "|                   C|                     52|\n",
      "|         Objective-C|                     49|\n",
      "|                   R|                     28|\n",
      "|                Ruby|                     20|\n",
      "|              MATLAB|                     16|\n",
      "|                Bash|                     13|\n",
      "+--------------------+-----------------------+\n",
      "Top 10 programming languages for 2015:\n",
      "+--------------------+-----------------------+\n",
      "|Programming_Language|Number_of_Mentions_2015|\n",
      "+--------------------+-----------------------+\n",
      "|          JavaScript|                    270|\n",
      "|                Java|                    208|\n",
      "|                 PHP|                    147|\n",
      "|              Python|                    119|\n",
      "|                   R|                     43|\n",
      "|                   C|                     38|\n",
      "|         Objective-C|                     30|\n",
      "|                Ruby|                     21|\n",
      "|              MATLAB|                     16|\n",
      "|               Scala|                     13|\n",
      "+--------------------+-----------------------+\n",
      "Top 10 programming languages for 2016:\n",
      "+--------------------+-----------------------+\n",
      "|Programming_Language|Number_of_Mentions_2016|\n",
      "+--------------------+-----------------------+\n",
      "|          JavaScript|                    272|\n",
      "|                Java|                    179|\n",
      "|              Python|                    141|\n",
      "|                 PHP|                    126|\n",
      "|                   R|                     50|\n",
      "|                   C|                     32|\n",
      "|                Ruby|                     21|\n",
      "|                Bash|                     16|\n",
      "|               Scala|                     16|\n",
      "|              MATLAB|                     15|\n",
      "+--------------------+-----------------------+\n",
      "Top 10 programming languages for 2017:\n",
      "+--------------------+-----------------------+\n",
      "|Programming_Language|Number_of_Mentions_2017|\n",
      "+--------------------+-----------------------+\n",
      "|          JavaScript|                    244|\n",
      "|                Java|                    204|\n",
      "|              Python|                    185|\n",
      "|                 PHP|                    122|\n",
      "|                   R|                     53|\n",
      "|                   C|                     24|\n",
      "|         Objective-C|                     19|\n",
      "|                Ruby|                     16|\n",
      "|          TypeScript|                     14|\n",
      "|          PowerShell|                     14|\n",
      "+--------------------+-----------------------+\n",
      "Top 10 programming languages for 2018:\n",
      "+--------------------+-----------------------+\n",
      "|Programming_Language|Number_of_Mentions_2018|\n",
      "+--------------------+-----------------------+\n",
      "|              Python|                    214|\n",
      "|          JavaScript|                    196|\n",
      "|                Java|                    145|\n",
      "|                 PHP|                     99|\n",
      "|                   R|                     63|\n",
      "|                   C|                     24|\n",
      "|               Scala|                     22|\n",
      "|          TypeScript|                     21|\n",
      "|          PowerShell|                     13|\n",
      "|                Bash|                     12|\n",
      "+--------------------+-----------------------+\n",
      "Top 10 programming languages for 2019:\n",
      "+--------------------+-----------------------+\n",
      "|Programming_Language|Number_of_Mentions_2019|\n",
      "+--------------------+-----------------------+\n",
      "|              Python|                    162|\n",
      "|          JavaScript|                    131|\n",
      "|                Java|                     95|\n",
      "|                 PHP|                     59|\n",
      "|                   R|                     36|\n",
      "|                   C|                     14|\n",
      "|                  Go|                      9|\n",
      "|              MATLAB|                      9|\n",
      "|              Kotlin|                      9|\n",
      "|                Dart|                      9|\n",
      "+--------------------+-----------------------+\n"
     ]
    }
   ],
   "source": [
    "# Выполнение обработки по годам и вывод результатов\n",
    "report = {}\n",
    "for year in range(2010, 2020):\n",
    "    report[year] = process_posts_for_year(year, posts_rdd)\n",
    "    print(f\"Top 10 programming languages for {year}:\")\n",
    "    report[year].show()"
   ],
   "metadata": {
    "collapsed": false,
    "ExecuteTime": {
     "end_time": "2024-04-09T12:46:40.322342800Z",
     "start_time": "2024-04-09T12:44:23.192478500Z"
    }
   },
   "id": "1e362b3b2764a7c0"
  }
 ],
 "metadata": {
  "kernelspec": {
   "display_name": "Python 3",
   "language": "python",
   "name": "python3"
  },
  "language_info": {
   "codemirror_mode": {
    "name": "ipython",
    "version": 2
   },
   "file_extension": ".py",
   "mimetype": "text/x-python",
   "name": "python",
   "nbconvert_exporter": "python",
   "pygments_lexer": "ipython2",
   "version": "2.7.6"
  }
 },
 "nbformat": 4,
 "nbformat_minor": 5
}
