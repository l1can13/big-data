{
 "cells": [
  {
   "cell_type": "markdown",
   "source": [
    "# Init"
   ],
   "metadata": {
    "collapsed": false
   },
   "id": "d6ec7d26b2f1c3e2"
  },
  {
   "cell_type": "code",
   "execution_count": 137,
   "outputs": [],
   "source": [
    "import os\n",
    "import sys\n",
    "from pyspark.sql import SparkSession\n",
    "from typing import NamedTuple\n",
    "from datetime import datetime\n",
    "\n",
    "os.environ['PYSPARK_PYTHON'] = sys.executable\n",
    "os.environ['PYSPARK_DRIVER_PYTHON'] = sys.executable\n",
    "spark = SparkSession.builder.getOrCreate()"
   ],
   "metadata": {
    "collapsed": false,
    "ExecuteTime": {
     "end_time": "2024-04-09T09:05:41.494304100Z",
     "start_time": "2024-04-09T09:05:41.453397900Z"
    }
   },
   "id": "993a662ddf62e8b8"
  },
  {
   "cell_type": "code",
   "execution_count": 138,
   "outputs": [
    {
     "data": {
      "text/plain": "<SparkContext master=local[1] appName=Lab1>",
      "text/html": "\n        <div>\n            <p><b>SparkContext</b></p>\n\n            <p><a href=\"http://l1can:4040\">Spark UI</a></p>\n\n            <dl>\n              <dt>Version</dt>\n                <dd><code>v3.5.1</code></dd>\n              <dt>Master</dt>\n                <dd><code>local[1]</code></dd>\n              <dt>AppName</dt>\n                <dd><code>Lab1</code></dd>\n            </dl>\n        </div>\n        "
     },
     "execution_count": 138,
     "metadata": {},
     "output_type": "execute_result"
    }
   ],
   "source": [
    "from pyspark import SparkContext, SparkConf\n",
    "app_name = \"Lab1\"\n",
    "spark.stop()\n",
    "conf = SparkConf().setAppName(app_name).setMaster('local[1]')\n",
    "sc = SparkContext(conf=conf)\n",
    "sc"
   ],
   "metadata": {
    "collapsed": false,
    "ExecuteTime": {
     "end_time": "2024-04-09T09:05:41.912335800Z",
     "start_time": "2024-04-09T09:05:41.475553900Z"
    }
   },
   "id": "f0af070c491e4dbd"
  },
  {
   "cell_type": "code",
   "execution_count": 139,
   "outputs": [],
   "source": [
    "def initStation(stations):\n",
    "    class Station(NamedTuple):\n",
    "        station_id: int\n",
    "        name: str\n",
    "        lat: float\n",
    "        long: float\n",
    "        dockcount: int\n",
    "        landmark: str\n",
    "        installation: datetime\n",
    "\n",
    "    for station in stations:\n",
    "        yield Station(\n",
    "            station_id=int(station[0]),\n",
    "            name=station[1],\n",
    "            lat=float(station[2]),\n",
    "            long=float(station[3]),\n",
    "            dockcount=int(station[4]),\n",
    "            landmark=station[5],\n",
    "            installation=datetime.strptime(station[6], '%m/%d/%Y')\n",
    "        )\n",
    "\n",
    "\n",
    "def initTrip(trips):\n",
    "    class Trip(NamedTuple):\n",
    "        trip_id: int\n",
    "        duration: int\n",
    "        start_date: datetime\n",
    "        start_station_name: str\n",
    "        start_station_id: int\n",
    "        end_date: datetime\n",
    "        end_station_name: str\n",
    "        end_station_id: int\n",
    "        bike_id: int\n",
    "        subscription_type: str\n",
    "        zip_code: str\n",
    "\n",
    "    for trip in trips:\n",
    "        yield Trip(\n",
    "            trip_id=int(trip[0]) if trip[0] else None,\n",
    "            duration=int(trip[1]) if trip[1] else None,\n",
    "            start_date=datetime.strptime(trip[2], '%m/%d/%Y %H:%M') if trip[2] else None,\n",
    "            start_station_name=trip[3],\n",
    "            start_station_id=int(trip[4]),\n",
    "            end_date=datetime.strptime(trip[5], '%m/%d/%Y %H:%M') if trip[5] else None,\n",
    "            end_station_name=trip[6],\n",
    "            end_station_id=trip[7],\n",
    "            bike_id=int(trip[8]),\n",
    "            subscription_type=trip[9],\n",
    "            zip_code=trip[10]\n",
    "        )"
   ],
   "metadata": {
    "collapsed": false,
    "ExecuteTime": {
     "end_time": "2024-04-09T09:05:41.935353600Z",
     "start_time": "2024-04-09T09:05:41.917849300Z"
    }
   },
   "id": "d2ed9b15c5609cc9"
  },
  {
   "cell_type": "code",
   "execution_count": 145,
   "outputs": [
    {
     "name": "stdout",
     "output_type": "stream",
     "text": [
      "['2', 'San Jose Diridon Caltrain Station', '37.329732', '-121.90178200000001', '27', 'San Jose', '8/6/2013']\n"
     ]
    },
    {
     "data": {
      "text/plain": "Station(station_id=2, name='San Jose Diridon Caltrain Station', lat=37.329732, long=-121.90178200000001, dockcount=27, landmark='San Jose', installation=datetime.datetime(2013, 8, 6, 0, 0))"
     },
     "execution_count": 145,
     "metadata": {},
     "output_type": "execute_result"
    }
   ],
   "source": [
    "tripData = sc.textFile(\"data/trips.csv\")\n",
    "stationData = sc.textFile(\"data/stations.csv\")\n",
    "\n",
    "header = stationData.first()\n",
    "station_data_filter = stationData.filter(lambda line: line != header)\n",
    "station_data_map = station_data_filter.map(lambda line: line.split(','))\n",
    "\n",
    "print(station_data_map.first())\n",
    "\n",
    "stations_mapped = station_data_map.mapPartitions(initStation)\n",
    "\n",
    "stations_mapped.first()"
   ],
   "metadata": {
    "collapsed": false,
    "ExecuteTime": {
     "end_time": "2024-04-09T09:06:00.533591700Z",
     "start_time": "2024-04-09T09:05:59.002132600Z"
    }
   },
   "id": "fc9366fb5a5b1011"
  },
  {
   "cell_type": "code",
   "execution_count": 146,
   "outputs": [
    {
     "data": {
      "text/plain": "Trip(trip_id=4576, duration=63, start_date=datetime.datetime(2013, 8, 29, 14, 42), start_station_name='South Van Ness at Market', start_station_id=66, end_date=datetime.datetime(2013, 8, 29, 14, 14), end_station_name='South Van Ness at Market', end_station_id='66', bike_id=520, subscription_type='Subscriber', zip_code='94127')"
     },
     "execution_count": 146,
     "metadata": {},
     "output_type": "execute_result"
    }
   ],
   "source": [
    "header = tripData.first()\n",
    "trips_data_filter = tripData.filter(lambda line: line != header)\n",
    "trips_data_map = trips_data_filter.map(lambda line: line.split(','))\n",
    "trips_mapped = trips_data_map.mapPartitions(initTrip)\n",
    "\n",
    "trips_mapped.first()"
   ],
   "metadata": {
    "collapsed": false,
    "ExecuteTime": {
     "end_time": "2024-04-09T09:06:03.171462800Z",
     "start_time": "2024-04-09T09:06:02.180480800Z"
    }
   },
   "id": "cc914b2f0ba915c9"
  },
  {
   "cell_type": "markdown",
   "source": [
    "# Найти велосипед с максимальным временем пробега."
   ],
   "metadata": {
    "collapsed": false
   },
   "id": "e96494979a1d821d"
  },
  {
   "cell_type": "code",
   "execution_count": 142,
   "outputs": [
    {
     "data": {
      "text/plain": "535"
     },
     "execution_count": 142,
     "metadata": {},
     "output_type": "execute_result"
    }
   ],
   "source": [
    "# Использование reduce для нахождения поездки с максимальной длительностью\n",
    "max_duration_trip = trips_mapped.reduce(lambda trip1, trip2: trip1 if trip1.duration > trip2.duration else trip2)\n",
    "\n",
    "max_duration_trip.bike_id"
   ],
   "metadata": {
    "collapsed": false,
    "ExecuteTime": {
     "end_time": "2024-04-09T09:05:52.875453700Z",
     "start_time": "2024-04-09T09:05:44.379316400Z"
    }
   },
   "id": "3f69ff2682e2bc64"
  },
  {
   "cell_type": "markdown",
   "source": [
    "# Найти наибольшее геодезическое расстояние между станциями."
   ],
   "metadata": {
    "collapsed": false
   },
   "id": "2ed778565f672890"
  },
  {
   "cell_type": "code",
   "execution_count": 143,
   "outputs": [],
   "source": [
    "from math import radians, cos, sin, asin, sqrt\n",
    "\n",
    "def haversine(lon1, lat1, lon2, lat2):\n",
    "    \"\"\"\n",
    "    Вычислить геодезическое расстояние между двумя точками на земле, заданными в градусах.\n",
    "    \"\"\"\n",
    "    # Конвертировать десятичные градусы в радианы \n",
    "    lon1, lat1, lon2, lat2 = map(radians, [lon1, lat1, lon2, lat2])\n",
    "\n",
    "    # Формула гаверсинуса\n",
    "    dlon = lon2 - lon1 \n",
    "    dlat = lat2 - lat1 \n",
    "    a = sin(dlat/2)**2 + cos(lat1) * cos(lat2) * sin(dlon/2)**2\n",
    "    c = 2 * asin(sqrt(a)) \n",
    "    r = 6371 # Радиус Земли в километрах. Используйте 3956 для миль\n",
    "    return c * r"
   ],
   "metadata": {
    "collapsed": false,
    "ExecuteTime": {
     "end_time": "2024-04-09T09:05:52.904556Z",
     "start_time": "2024-04-09T09:05:52.877963400Z"
    }
   },
   "id": "8e0831e3961e8204"
  },
  {
   "cell_type": "code",
   "execution_count": 148,
   "outputs": [
    {
     "name": "stdout",
     "output_type": "stream",
     "text": [
      "Максимальное расстояние между станциями 16 и 60: 69.92087595428183 км\n"
     ]
    }
   ],
   "source": [
    "stations_cartesian = stations_mapped.cartesian(stations_mapped)\n",
    "\n",
    "def calculate_distance(record):\n",
    "    station1, station2 = record\n",
    "    distance = haversine(station1.long, station1.lat, station2.long, station2.lat)\n",
    "    return (station1.station_id, station2.station_id, distance)\n",
    "\n",
    "distances = stations_cartesian.map(calculate_distance)\n",
    "\n",
    "max_distance = distances.max(key=lambda x: x[2])\n",
    "print(f\"Максимальное расстояние между станциями {max_distance[0]} и {max_distance[1]}: {max_distance[2]} км\")"
   ],
   "metadata": {
    "collapsed": false,
    "ExecuteTime": {
     "end_time": "2024-04-09T09:06:44.146390500Z",
     "start_time": "2024-04-09T09:06:40.156729800Z"
    }
   },
   "id": "92d8db7b66150e49"
  },
  {
   "cell_type": "markdown",
   "source": [
    "# Найти путь велосипеда с максимальным временем пробега через станции."
   ],
   "metadata": {
    "collapsed": false
   },
   "id": "dc78af138c42916a"
  },
  {
   "cell_type": "code",
   "execution_count": 150,
   "outputs": [
    {
     "name": "stdout",
     "output_type": "stream",
     "text": [
      "Bike 535 started its longest path from Post at Kearney on 2013-08-29 19:32:00 to San Francisco Caltrain (Townsend at 4th)\n"
     ]
    }
   ],
   "source": [
    "# Суммирование длительности поездок для каждого велосипеда и нахождение максимума\n",
    "max_duration_bike_id, _ = trips_mapped \\\n",
    "    .map(lambda trip: (trip.bike_id, trip.duration)) \\\n",
    "    .reduceByKey(lambda a, b: a + b) \\\n",
    "    .max(key=lambda x: x[1])\n",
    "\n",
    "# Фильтруем поездки для велосипеда с максимальной длительностью и сортируем по дате начала\n",
    "max_bike_trips_sorted = trips_mapped \\\n",
    "    .filter(lambda trip: trip.bike_id == max_duration_bike_id) \\\n",
    "    .sortBy(lambda trip: trip.start_date)\n",
    "\n",
    "# Выводим первую поездку для демонстрации\n",
    "first_trip = max_bike_trips_sorted.first()\n",
    "print(f\"Bike {first_trip.bike_id} started its longest path from {first_trip.start_station_name} on {first_trip.start_date} to {first_trip.end_station_name}\")"
   ],
   "metadata": {
    "collapsed": false,
    "ExecuteTime": {
     "end_time": "2024-04-09T09:10:50.400125400Z",
     "start_time": "2024-04-09T09:10:15.218776500Z"
    }
   },
   "id": "2152a01f193bcaf9"
  },
  {
   "cell_type": "markdown",
   "source": [
    "# Найти количество велосипедов в системе."
   ],
   "metadata": {
    "collapsed": false
   },
   "id": "9e43d2cbe88ab87d"
  },
  {
   "cell_type": "code",
   "execution_count": 151,
   "outputs": [
    {
     "name": "stdout",
     "output_type": "stream",
     "text": [
      "Total number of bikes in the system: 700\n"
     ]
    }
   ],
   "source": [
    "# Извлекаем bike_id из каждой поездки\n",
    "bike_ids = trips_mapped.map(lambda trip: trip.bike_id)\n",
    "\n",
    "# Получаем уникальные bike_id\n",
    "unique_bike_ids = bike_ids.distinct()\n",
    "\n",
    "# Подсчитываем количество уникальных велосипедов\n",
    "bike_count = unique_bike_ids.count()\n",
    "\n",
    "print(f\"Total number of bikes in the system: {bike_count}\")"
   ],
   "metadata": {
    "collapsed": false,
    "ExecuteTime": {
     "end_time": "2024-04-09T09:14:04.097495400Z",
     "start_time": "2024-04-09T09:13:53.568932700Z"
    }
   },
   "id": "7adffd142de84be6"
  },
  {
   "cell_type": "markdown",
   "source": [
    "# Найти пользователей потративших на поездки более 3 часов."
   ],
   "metadata": {
    "collapsed": false
   },
   "id": "d7ddec80793a1658"
  },
  {
   "cell_type": "code",
   "execution_count": 153,
   "outputs": [
    {
     "data": {
      "text/plain": "['58553',\n '94301',\n '94039',\n '94133',\n '93726',\n '94123',\n '4517',\n '29200',\n '45322',\n '94080']"
     },
     "execution_count": 153,
     "metadata": {},
     "output_type": "execute_result"
    }
   ],
   "source": [
    "long_trips = trips_mapped.filter(lambda x: x.duration > (3 * 60 * 60))\n",
    "\n",
    "unique_zip_codes = (\n",
    "    long_trips\n",
    "    .map(lambda trip: trip.zip_code)  \n",
    "    .filter(lambda zip_code: zip_code != \"\")  \n",
    "    .distinct()  \n",
    ")\n",
    "\n",
    "first_10_users = unique_zip_codes.take(10)\n",
    "\n",
    "first_10_users"
   ],
   "metadata": {
    "collapsed": false,
    "ExecuteTime": {
     "end_time": "2024-04-09T09:16:29.052372200Z",
     "start_time": "2024-04-09T09:16:19.705542400Z"
    }
   },
   "id": "308a3549f73d869e"
  }
 ],
 "metadata": {
  "kernelspec": {
   "display_name": "Python 3",
   "language": "python",
   "name": "python3"
  },
  "language_info": {
   "codemirror_mode": {
    "name": "ipython",
    "version": 2
   },
   "file_extension": ".py",
   "mimetype": "text/x-python",
   "name": "python",
   "nbconvert_exporter": "python",
   "pygments_lexer": "ipython2",
   "version": "2.7.6"
  }
 },
 "nbformat": 4,
 "nbformat_minor": 5
}
